{
 "cells": [
  {
   "cell_type": "code",
   "execution_count": 2,
   "metadata": {},
   "outputs": [
    {
     "name": "stderr",
     "output_type": "stream",
     "text": [
      "2024-10-27 21:20:52.087106: E external/local_xla/xla/stream_executor/cuda/cuda_fft.cc:477] Unable to register cuFFT factory: Attempting to register factory for plugin cuFFT when one has already been registered\n",
      "WARNING: All log messages before absl::InitializeLog() is called are written to STDERR\n",
      "E0000 00:00:1730044252.113927    9678 cuda_dnn.cc:8310] Unable to register cuDNN factory: Attempting to register factory for plugin cuDNN when one has already been registered\n",
      "E0000 00:00:1730044252.121713    9678 cuda_blas.cc:1418] Unable to register cuBLAS factory: Attempting to register factory for plugin cuBLAS when one has already been registered\n",
      "2024-10-27 21:20:52.151545: I tensorflow/core/platform/cpu_feature_guard.cc:210] This TensorFlow binary is optimized to use available CPU instructions in performance-critical operations.\n",
      "To enable the following instructions: AVX2 FMA, in other operations, rebuild TensorFlow with the appropriate compiler flags.\n"
     ]
    }
   ],
   "source": [
    "import pandas as pd\n",
    "from sklearn.preprocessing import LabelEncoder\n",
    "from tensorflow.keras.preprocessing.text import Tokenizer\n",
    "from tensorflow.keras.preprocessing.sequence import pad_sequences"
   ]
  },
  {
   "cell_type": "code",
   "execution_count": 4,
   "metadata": {},
   "outputs": [
    {
     "data": {
      "text/html": [
       "<div>\n",
       "<style scoped>\n",
       "    .dataframe tbody tr th:only-of-type {\n",
       "        vertical-align: middle;\n",
       "    }\n",
       "\n",
       "    .dataframe tbody tr th {\n",
       "        vertical-align: top;\n",
       "    }\n",
       "\n",
       "    .dataframe thead th {\n",
       "        text-align: right;\n",
       "    }\n",
       "</style>\n",
       "<table border=\"1\" class=\"dataframe\">\n",
       "  <thead>\n",
       "    <tr style=\"text-align: right;\">\n",
       "      <th></th>\n",
       "      <th>tags</th>\n",
       "      <th>instruction</th>\n",
       "      <th>category</th>\n",
       "      <th>intent</th>\n",
       "      <th>response</th>\n",
       "    </tr>\n",
       "  </thead>\n",
       "  <tbody>\n",
       "    <tr>\n",
       "      <th>0</th>\n",
       "      <td>BCIPZ</td>\n",
       "      <td>I would like to acivate a card, can you help me?</td>\n",
       "      <td>CARD</td>\n",
       "      <td>activate_card</td>\n",
       "      <td>I'm here to assist you with that! Activating y...</td>\n",
       "    </tr>\n",
       "    <tr>\n",
       "      <th>1</th>\n",
       "      <td>BCILZ</td>\n",
       "      <td>I have to activate an Visa online, how can I d...</td>\n",
       "      <td>CARD</td>\n",
       "      <td>activate_card</td>\n",
       "      <td>I'm here to assist you with activating your {{...</td>\n",
       "    </tr>\n",
       "    <tr>\n",
       "      <th>2</th>\n",
       "      <td>BCIPQZ</td>\n",
       "      <td>I'd like to actiate a card where do i do it</td>\n",
       "      <td>CARD</td>\n",
       "      <td>activate_card</td>\n",
       "      <td>I can help you with that! Activating your card...</td>\n",
       "    </tr>\n",
       "    <tr>\n",
       "      <th>3</th>\n",
       "      <td>BCLPQZ</td>\n",
       "      <td>I'd likke to activate a visa on mobile i need ...</td>\n",
       "      <td>CARD</td>\n",
       "      <td>activate_card</td>\n",
       "      <td>I'm here to assist you with activating your {{...</td>\n",
       "    </tr>\n",
       "    <tr>\n",
       "      <th>4</th>\n",
       "      <td>BCILPZ</td>\n",
       "      <td>I would ilke to activate a credit card online,...</td>\n",
       "      <td>CARD</td>\n",
       "      <td>activate_card</td>\n",
       "      <td>I'm here to assist you with activating your cr...</td>\n",
       "    </tr>\n",
       "  </tbody>\n",
       "</table>\n",
       "</div>"
      ],
      "text/plain": [
       "     tags                                        instruction category  \\\n",
       "0   BCIPZ   I would like to acivate a card, can you help me?     CARD   \n",
       "1   BCILZ  I have to activate an Visa online, how can I d...     CARD   \n",
       "2  BCIPQZ        I'd like to actiate a card where do i do it     CARD   \n",
       "3  BCLPQZ  I'd likke to activate a visa on mobile i need ...     CARD   \n",
       "4  BCILPZ  I would ilke to activate a credit card online,...     CARD   \n",
       "\n",
       "          intent                                           response  \n",
       "0  activate_card  I'm here to assist you with that! Activating y...  \n",
       "1  activate_card  I'm here to assist you with activating your {{...  \n",
       "2  activate_card  I can help you with that! Activating your card...  \n",
       "3  activate_card  I'm here to assist you with activating your {{...  \n",
       "4  activate_card  I'm here to assist you with activating your cr...  "
      ]
     },
     "execution_count": 4,
     "metadata": {},
     "output_type": "execute_result"
    }
   ],
   "source": [
    "data = pd.read_csv(\"data/banking-data.csv\")\n",
    "data.head()"
   ]
  },
  {
   "cell_type": "code",
   "execution_count": 6,
   "metadata": {},
   "outputs": [],
   "source": [
    "# Encode intent labels\n",
    "label_encoder = LabelEncoder()\n",
    "data['intent_encoded'] = label_encoder.fit_transform(data['intent'])\n",
    "\n",
    "# Tokenize instructions\n",
    "tokenizer = Tokenizer()\n",
    "tokenizer.fit_on_texts(data['instruction'])\n",
    "X = tokenizer.texts_to_sequences(data['instruction'])\n",
    "X = pad_sequences(X, padding='post')  # Ensure uniform length\n",
    "\n",
    "# Intent labels as the target variable\n",
    "y = data['intent_encoded']"
   ]
  },
  {
   "cell_type": "code",
   "execution_count": 29,
   "metadata": {},
   "outputs": [
    {
     "name": "stdout",
     "output_type": "stream",
     "text": [
      "Epoch 1/40\n"
     ]
    },
    {
     "name": "stderr",
     "output_type": "stream",
     "text": [
      "/home/nikhil/miniconda3/lib/python3.12/site-packages/keras/src/layers/core/embedding.py:90: UserWarning: Argument `input_length` is deprecated. Just remove it.\n",
      "  warnings.warn(\n"
     ]
    },
    {
     "name": "stdout",
     "output_type": "stream",
     "text": [
      "\u001b[1m639/639\u001b[0m \u001b[32m━━━━━━━━━━━━━━━━━━━━\u001b[0m\u001b[37m\u001b[0m \u001b[1m21s\u001b[0m 28ms/step - accuracy: 0.4159 - loss: 1.8986 - val_accuracy: 0.0759 - val_loss: 15.2657\n",
      "Epoch 2/40\n",
      "\u001b[1m639/639\u001b[0m \u001b[32m━━━━━━━━━━━━━━━━━━━━\u001b[0m\u001b[37m\u001b[0m \u001b[1m17s\u001b[0m 27ms/step - accuracy: 0.9509 - loss: 0.1702 - val_accuracy: 0.0783 - val_loss: 15.7038\n",
      "Epoch 3/40\n",
      "\u001b[1m639/639\u001b[0m \u001b[32m━━━━━━━━━━━━━━━━━━━━\u001b[0m\u001b[37m\u001b[0m \u001b[1m16s\u001b[0m 26ms/step - accuracy: 0.9859 - loss: 0.0568 - val_accuracy: 0.0795 - val_loss: 17.3168\n",
      "Epoch 4/40\n",
      "\u001b[1m639/639\u001b[0m \u001b[32m━━━━━━━━━━━━━━━━━━━━\u001b[0m\u001b[37m\u001b[0m \u001b[1m16s\u001b[0m 26ms/step - accuracy: 0.9933 - loss: 0.0294 - val_accuracy: 0.0795 - val_loss: 17.7799\n",
      "Epoch 5/40\n",
      "\u001b[1m639/639\u001b[0m \u001b[32m━━━━━━━━━━━━━━━━━━━━\u001b[0m\u001b[37m\u001b[0m \u001b[1m15s\u001b[0m 24ms/step - accuracy: 0.9918 - loss: 0.0312 - val_accuracy: 0.0793 - val_loss: 17.9606\n",
      "Epoch 6/40\n",
      "\u001b[1m639/639\u001b[0m \u001b[32m━━━━━━━━━━━━━━━━━━━━\u001b[0m\u001b[37m\u001b[0m \u001b[1m16s\u001b[0m 25ms/step - accuracy: 0.9975 - loss: 0.0108 - val_accuracy: 0.0797 - val_loss: 19.3512\n",
      "Epoch 7/40\n",
      "\u001b[1m639/639\u001b[0m \u001b[32m━━━━━━━━━━━━━━━━━━━━\u001b[0m\u001b[37m\u001b[0m \u001b[1m16s\u001b[0m 25ms/step - accuracy: 0.9966 - loss: 0.0131 - val_accuracy: 0.0791 - val_loss: 18.8116\n",
      "Epoch 8/40\n",
      "\u001b[1m639/639\u001b[0m \u001b[32m━━━━━━━━━━━━━━━━━━━━\u001b[0m\u001b[37m\u001b[0m \u001b[1m17s\u001b[0m 27ms/step - accuracy: 0.9986 - loss: 0.0074 - val_accuracy: 0.0812 - val_loss: 18.6799\n",
      "Epoch 9/40\n",
      "\u001b[1m639/639\u001b[0m \u001b[32m━━━━━━━━━━━━━━━━━━━━\u001b[0m\u001b[37m\u001b[0m \u001b[1m17s\u001b[0m 26ms/step - accuracy: 0.9989 - loss: 0.0055 - val_accuracy: 0.0795 - val_loss: 19.9683\n",
      "Epoch 10/40\n",
      "\u001b[1m639/639\u001b[0m \u001b[32m━━━━━━━━━━━━━━━━━━━━\u001b[0m\u001b[37m\u001b[0m \u001b[1m17s\u001b[0m 27ms/step - accuracy: 0.9943 - loss: 0.0240 - val_accuracy: 0.0801 - val_loss: 19.1245\n",
      "Epoch 11/40\n",
      "\u001b[1m639/639\u001b[0m \u001b[32m━━━━━━━━━━━━━━━━━━━━\u001b[0m\u001b[37m\u001b[0m \u001b[1m16s\u001b[0m 25ms/step - accuracy: 0.9987 - loss: 0.0048 - val_accuracy: 0.0801 - val_loss: 17.5552\n",
      "Epoch 12/40\n",
      "\u001b[1m639/639\u001b[0m \u001b[32m━━━━━━━━━━━━━━━━━━━━\u001b[0m\u001b[37m\u001b[0m \u001b[1m18s\u001b[0m 28ms/step - accuracy: 0.9990 - loss: 0.0051 - val_accuracy: 0.0804 - val_loss: 18.1443\n",
      "Epoch 13/40\n",
      "\u001b[1m639/639\u001b[0m \u001b[32m━━━━━━━━━━━━━━━━━━━━\u001b[0m\u001b[37m\u001b[0m \u001b[1m17s\u001b[0m 27ms/step - accuracy: 0.9990 - loss: 0.0036 - val_accuracy: 0.0803 - val_loss: 18.9528\n",
      "Epoch 14/40\n",
      "\u001b[1m639/639\u001b[0m \u001b[32m━━━━━━━━━━━━━━━━━━━━\u001b[0m\u001b[37m\u001b[0m \u001b[1m18s\u001b[0m 29ms/step - accuracy: 0.9995 - loss: 0.0027 - val_accuracy: 0.0799 - val_loss: 18.9936\n",
      "Epoch 15/40\n",
      "\u001b[1m639/639\u001b[0m \u001b[32m━━━━━━━━━━━━━━━━━━━━\u001b[0m\u001b[37m\u001b[0m \u001b[1m18s\u001b[0m 28ms/step - accuracy: 0.9943 - loss: 0.0231 - val_accuracy: 0.0803 - val_loss: 18.3068\n",
      "Epoch 16/40\n",
      "\u001b[1m639/639\u001b[0m \u001b[32m━━━━━━━━━━━━━━━━━━━━\u001b[0m\u001b[37m\u001b[0m \u001b[1m16s\u001b[0m 26ms/step - accuracy: 0.9998 - loss: 0.0032 - val_accuracy: 0.0801 - val_loss: 19.1978\n",
      "Epoch 17/40\n",
      "\u001b[1m639/639\u001b[0m \u001b[32m━━━━━━━━━━━━━━━━━━━━\u001b[0m\u001b[37m\u001b[0m \u001b[1m16s\u001b[0m 26ms/step - accuracy: 1.0000 - loss: 7.7425e-05 - val_accuracy: 0.0803 - val_loss: 19.5914\n",
      "Epoch 18/40\n",
      "\u001b[1m639/639\u001b[0m \u001b[32m━━━━━━━━━━━━━━━━━━━━\u001b[0m\u001b[37m\u001b[0m \u001b[1m16s\u001b[0m 25ms/step - accuracy: 1.0000 - loss: 4.7756e-05 - val_accuracy: 0.0803 - val_loss: 19.9551\n",
      "Epoch 19/40\n",
      "\u001b[1m639/639\u001b[0m \u001b[32m━━━━━━━━━━━━━━━━━━━━\u001b[0m\u001b[37m\u001b[0m \u001b[1m16s\u001b[0m 26ms/step - accuracy: 1.0000 - loss: 3.4311e-05 - val_accuracy: 0.0803 - val_loss: 20.2952\n",
      "Epoch 20/40\n",
      "\u001b[1m639/639\u001b[0m \u001b[32m━━━━━━━━━━━━━━━━━━━━\u001b[0m\u001b[37m\u001b[0m \u001b[1m16s\u001b[0m 25ms/step - accuracy: 1.0000 - loss: 2.5136e-05 - val_accuracy: 0.0803 - val_loss: 20.6334\n",
      "Epoch 21/40\n",
      "\u001b[1m639/639\u001b[0m \u001b[32m━━━━━━━━━━━━━━━━━━━━\u001b[0m\u001b[37m\u001b[0m \u001b[1m16s\u001b[0m 25ms/step - accuracy: 1.0000 - loss: 1.8268e-05 - val_accuracy: 0.0803 - val_loss: 20.9586\n",
      "Epoch 22/40\n",
      "\u001b[1m639/639\u001b[0m \u001b[32m━━━━━━━━━━━━━━━━━━━━\u001b[0m\u001b[37m\u001b[0m \u001b[1m16s\u001b[0m 26ms/step - accuracy: 1.0000 - loss: 1.3662e-05 - val_accuracy: 0.0803 - val_loss: 21.2941\n",
      "Epoch 23/40\n",
      "\u001b[1m639/639\u001b[0m \u001b[32m━━━━━━━━━━━━━━━━━━━━\u001b[0m\u001b[37m\u001b[0m \u001b[1m19s\u001b[0m 30ms/step - accuracy: 1.0000 - loss: 1.0378e-05 - val_accuracy: 0.0803 - val_loss: 21.6181\n",
      "Epoch 24/40\n",
      "\u001b[1m639/639\u001b[0m \u001b[32m━━━━━━━━━━━━━━━━━━━━\u001b[0m\u001b[37m\u001b[0m \u001b[1m19s\u001b[0m 29ms/step - accuracy: 1.0000 - loss: 7.1467e-06 - val_accuracy: 0.0803 - val_loss: 21.9516\n",
      "Epoch 25/40\n",
      "\u001b[1m639/639\u001b[0m \u001b[32m━━━━━━━━━━━━━━━━━━━━\u001b[0m\u001b[37m\u001b[0m \u001b[1m19s\u001b[0m 29ms/step - accuracy: 1.0000 - loss: 5.2473e-06 - val_accuracy: 0.0803 - val_loss: 22.2588\n",
      "Epoch 26/40\n",
      "\u001b[1m639/639\u001b[0m \u001b[32m━━━━━━━━━━━━━━━━━━━━\u001b[0m\u001b[37m\u001b[0m \u001b[1m18s\u001b[0m 28ms/step - accuracy: 1.0000 - loss: 3.9554e-06 - val_accuracy: 0.0803 - val_loss: 22.5806\n",
      "Epoch 27/40\n",
      "\u001b[1m639/639\u001b[0m \u001b[32m━━━━━━━━━━━━━━━━━━━━\u001b[0m\u001b[37m\u001b[0m \u001b[1m18s\u001b[0m 27ms/step - accuracy: 1.0000 - loss: 2.8100e-06 - val_accuracy: 0.0803 - val_loss: 22.8977\n",
      "Epoch 28/40\n",
      "\u001b[1m639/639\u001b[0m \u001b[32m━━━━━━━━━━━━━━━━━━━━\u001b[0m\u001b[37m\u001b[0m \u001b[1m19s\u001b[0m 30ms/step - accuracy: 1.0000 - loss: 2.0465e-06 - val_accuracy: 0.0803 - val_loss: 23.2084\n",
      "Epoch 29/40\n",
      "\u001b[1m639/639\u001b[0m \u001b[32m━━━━━━━━━━━━━━━━━━━━\u001b[0m\u001b[37m\u001b[0m \u001b[1m19s\u001b[0m 29ms/step - accuracy: 1.0000 - loss: 1.4578e-06 - val_accuracy: 0.0801 - val_loss: 23.5168\n",
      "Epoch 30/40\n",
      "\u001b[1m639/639\u001b[0m \u001b[32m━━━━━━━━━━━━━━━━━━━━\u001b[0m\u001b[37m\u001b[0m \u001b[1m15s\u001b[0m 23ms/step - accuracy: 1.0000 - loss: 1.1169e-06 - val_accuracy: 0.0801 - val_loss: 23.8163\n",
      "Epoch 31/40\n",
      "\u001b[1m639/639\u001b[0m \u001b[32m━━━━━━━━━━━━━━━━━━━━\u001b[0m\u001b[37m\u001b[0m \u001b[1m15s\u001b[0m 23ms/step - accuracy: 1.0000 - loss: 7.6244e-07 - val_accuracy: 0.0801 - val_loss: 24.1132\n",
      "Epoch 32/40\n",
      "\u001b[1m639/639\u001b[0m \u001b[32m━━━━━━━━━━━━━━━━━━━━\u001b[0m\u001b[37m\u001b[0m \u001b[1m15s\u001b[0m 23ms/step - accuracy: 1.0000 - loss: 5.5404e-07 - val_accuracy: 0.0801 - val_loss: 24.4059\n",
      "Epoch 33/40\n",
      "\u001b[1m639/639\u001b[0m \u001b[32m━━━━━━━━━━━━━━━━━━━━\u001b[0m\u001b[37m\u001b[0m \u001b[1m15s\u001b[0m 24ms/step - accuracy: 1.0000 - loss: 3.9261e-07 - val_accuracy: 0.0801 - val_loss: 24.6887\n",
      "Epoch 34/40\n",
      "\u001b[1m639/639\u001b[0m \u001b[32m━━━━━━━━━━━━━━━━━━━━\u001b[0m\u001b[37m\u001b[0m \u001b[1m15s\u001b[0m 24ms/step - accuracy: 1.0000 - loss: 2.8499e-07 - val_accuracy: 0.0801 - val_loss: 24.9309\n",
      "Epoch 35/40\n",
      "\u001b[1m639/639\u001b[0m \u001b[32m━━━━━━━━━━━━━━━━━━━━\u001b[0m\u001b[37m\u001b[0m \u001b[1m15s\u001b[0m 24ms/step - accuracy: 1.0000 - loss: 1.9447e-07 - val_accuracy: 0.0801 - val_loss: 25.1640\n",
      "Epoch 36/40\n",
      "\u001b[1m639/639\u001b[0m \u001b[32m━━━━━━━━━━━━━━━━━━━━\u001b[0m\u001b[37m\u001b[0m \u001b[1m14s\u001b[0m 22ms/step - accuracy: 1.0000 - loss: 1.2780e-07 - val_accuracy: 0.0801 - val_loss: 25.3798\n",
      "Epoch 37/40\n",
      "\u001b[1m639/639\u001b[0m \u001b[32m━━━━━━━━━━━━━━━━━━━━\u001b[0m\u001b[37m\u001b[0m \u001b[1m14s\u001b[0m 22ms/step - accuracy: 1.0000 - loss: 8.8474e-08 - val_accuracy: 0.0801 - val_loss: 25.5392\n",
      "Epoch 38/40\n",
      "\u001b[1m639/639\u001b[0m \u001b[32m━━━━━━━━━━━━━━━━━━━━\u001b[0m\u001b[37m\u001b[0m \u001b[1m14s\u001b[0m 21ms/step - accuracy: 1.0000 - loss: 5.5006e-08 - val_accuracy: 0.0801 - val_loss: 25.6556\n",
      "Epoch 39/40\n",
      "\u001b[1m639/639\u001b[0m \u001b[32m━━━━━━━━━━━━━━━━━━━━\u001b[0m\u001b[37m\u001b[0m \u001b[1m15s\u001b[0m 24ms/step - accuracy: 1.0000 - loss: 3.0739e-08 - val_accuracy: 0.0801 - val_loss: 25.6930\n",
      "Epoch 40/40\n",
      "\u001b[1m639/639\u001b[0m \u001b[32m━━━━━━━━━━━━━━━━━━━━\u001b[0m\u001b[37m\u001b[0m \u001b[1m14s\u001b[0m 22ms/step - accuracy: 1.0000 - loss: 1.9075e-08 - val_accuracy: 0.0801 - val_loss: 25.6940\n"
     ]
    },
    {
     "data": {
      "text/plain": [
       "<keras.src.callbacks.history.History at 0x7f320394f050>"
      ]
     },
     "execution_count": 29,
     "metadata": {},
     "output_type": "execute_result"
    }
   ],
   "source": [
    "from tensorflow.keras.models import Sequential\n",
    "from tensorflow.keras.layers import Embedding, LSTM, Dense\n",
    "\n",
    "# Model architecture\n",
    "model = Sequential([\n",
    "    Embedding(input_dim=len(tokenizer.word_index) + 1, output_dim=64, input_length=X.shape[1]),\n",
    "    LSTM(64),\n",
    "    Dense(64, activation='relu'),\n",
    "    Dense(len(label_encoder.classes_), activation='softmax')\n",
    "])\n",
    "\n",
    "model.compile(optimizer='adam', loss='sparse_categorical_crossentropy', metrics=['accuracy'])\n",
    "model.fit(X, y, epochs=100, validation_split=0.2)\n"
   ]
  },
  {
   "cell_type": "code",
   "execution_count": 30,
   "metadata": {},
   "outputs": [],
   "source": [
    "import numpy as np\n",
    "\n",
    "def get_response(user_input):\n",
    "    # Process input\n",
    "    seq = tokenizer.texts_to_sequences([user_input])\n",
    "    padded_seq = pad_sequences(seq, maxlen=X.shape[1], padding='post')\n",
    "    \n",
    "    # Predict intent\n",
    "    prediction = model.predict(padded_seq)\n",
    "    intent_idx = np.argmax(prediction)\n",
    "    intent = label_encoder.inverse_transform([intent_idx])[0]\n",
    "\n",
    "    # Debug prints\n",
    "    print(f\"User Input: {user_input}\")\n",
    "    print(f\"Predicted Intent Index: {intent_idx}, Predicted Intent: {intent}\")\n",
    "\n",
    "    # Fetch response for intent\n",
    "    if intent in data['intent'].values:\n",
    "        response = data[data['intent'] == intent]['response'].values[0]\n",
    "    else:\n",
    "        response = \"I'm not sure how to respond to that.\"\n",
    "    \n",
    "    return response\n"
   ]
  },
  {
   "cell_type": "code",
   "execution_count": 37,
   "metadata": {},
   "outputs": [
    {
     "name": "stdout",
     "output_type": "stream",
     "text": [
      "\u001b[1m1/1\u001b[0m \u001b[32m━━━━━━━━━━━━━━━━━━━━\u001b[0m\u001b[37m\u001b[0m \u001b[1m0s\u001b[0m 29ms/step\n",
      "User Input: i want change my password\n",
      "Predicted Intent Index: 5, Predicted Intent: cancel_card\n",
      "I'm here to assist you with canceling your {{Credit Card}} on mobile. Let's get it sorted out. \n",
      "\n",
      "To cancel your {{Credit Card}} on mobile, please follow these steps:\n",
      "\n",
      "1. Open your banking app on your mobile device.\n",
      "2. Log in to your account using your credentials (username and password).\n",
      "3. Navigate to the \"Cards\" section or a similar option within the app.\n",
      "4. Look for the {{Credit Card}} you want to cancel and select it.\n",
      "5. Find the \"Cancel\" or \"Close\" option associated with the selected card.\n",
      "6. Confirm your decision to cancel the card.\n",
      "7. Follow any additional prompts or instructions provided by the app to complete the cancellation process.\n",
      "\n",
      "If you encounter any difficulties or have any further questions, please feel free to reach out to {{Customer Support Phone Number}}. Our dedicated customer support team will be more than happy to assist you further.\n",
      "\n",
      "Please remember to cut up or securely dispose of your physical card once the cancellation process is complete.\n"
     ]
    }
   ],
   "source": [
    "print(get_response(\"i want change my password\"))"
   ]
  },
  {
   "cell_type": "code",
   "execution_count": 44,
   "metadata": {},
   "outputs": [
    {
     "name": "stdout",
     "output_type": "stream",
     "text": [
      "\u001b[1m1/1\u001b[0m \u001b[32m━━━━━━━━━━━━━━━━━━━━\u001b[0m\u001b[37m\u001b[0m \u001b[1m0s\u001b[0m 32ms/step\n",
      "User Input: I want to activate my card\n",
      "Predicted Intent Index: 0, Predicted Intent: activate_card\n",
      "I'm here to assist you with that! Activating your card is an important step to starting and enjoying its benefits. Here's how you can activate your card:\n",
      "\n",
      "1. Locate the activation instructions: Depending on the card issuer, you may find the activation instructions on a sticker attached to the card itself, in the welcome package, or on the issuer's website.\n",
      "\n",
      "2. Visit the card issuer's activation website: Using your computer or mobile device, open a web browser and navigate to the card issuer's website. Look for the activation page or section.\n",
      "\n",
      "3. Enter the required information: Follow the prompts on the activation page and provide the necessary information. This may include your card number, personal details, and security code.\n",
      "\n",
      "4. Set up your card: Once you've entered the required information, you may have the option to set up a PIN, create an online account, or choose additional security features. Follow the instructions provided.\n",
      "\n",
      "5. Confirm activation: After entering all the necessary details and setting up any additional features, review the information you've provided and click on the \"Activate\" or \"Confirm\" button. \n",
      "\n",
      "6. Await confirmation: In most cases, you'll receive a confirmation message either on the website or through email or SMS indicating that your card has been successfully activated.\n",
      "\n",
      "If you encounter any issues during the activation process or have any questions, please don't hesitate to reach out. I'm here to assist you every step of the way!\n",
      "\u001b[1m1/1\u001b[0m \u001b[32m━━━━━━━━━━━━━━━━━━━━\u001b[0m\u001b[37m\u001b[0m \u001b[1m0s\u001b[0m 27ms/step\n",
      "User Input: How do I check my balance?\n",
      "Predicted Intent Index: 10, Predicted Intent: check_current_balance_on_card\n",
      "I can definitely assist you in finding the information about the current balance on your cards. Here's what you need to do:\n",
      "\n",
      "1. Log in to your online banking account or mobile banking app.\n",
      "2. Look for the \"Accounts\" or \"My Cards\" section.\n",
      "3. Select the specific card you want to check the balance for.\n",
      "4. The current balance should be displayed on the screen.\n",
      "\n",
      "If you're having any trouble finding the information or if you have any other questions related to your cards, feel free to let me know. I'm here to help!\n",
      "\u001b[1m1/1\u001b[0m \u001b[32m━━━━━━━━━━━━━━━━━━━━\u001b[0m\u001b[37m\u001b[0m \u001b[1m0s\u001b[0m 31ms/step\n",
      "User Input: Can you help me with my password?\n",
      "Predicted Intent Index: 4, Predicted Intent: block_card\n",
      "I'm here to assist you with locking your {{Credit Card}} on mobile. Let's get that taken care of. Here's what you need to do:\n",
      "\n",
      "1. Open the Bank Mobile App}} on your mobile device.\n",
      "2. Log in to your account using your {{username}} and {{password}}.\n",
      "3. Once you're logged in, navigate to the {{Card Management}} or {{Card Settings}} section.\n",
      "4. Look for the option to {{Block Card}} or {{Suspend Card}}.\n",
      "5. Follow the prompts to confirm and complete the card lock process.\n",
      "\n",
      "If you encounter any issues or have further questions, please don't hesitate to let me know. I'll be here to help you through the process.\n"
     ]
    }
   ],
   "source": [
    "test_inputs = [\n",
    "    \"I want to activate my card\",\n",
    "    \"How do I check my balance?\",\n",
    "    \"Can you help me with my password?\"\n",
    "]\n",
    "for input_text in test_inputs:\n",
    "    print(get_response(input_text))\n"
   ]
  },
  {
   "cell_type": "code",
   "execution_count": 43,
   "metadata": {},
   "outputs": [
    {
     "name": "stdout",
     "output_type": "stream",
     "text": [
      "\u001b[1m1/1\u001b[0m \u001b[32m━━━━━━━━━━━━━━━━━━━━\u001b[0m\u001b[37m\u001b[0m \u001b[1m0s\u001b[0m 26ms/step\n",
      "User Input: I am trying to ifnd a password, I need help\n",
      "Predicted Intent Index: 3, Predicted Intent: apply_for_mortgage\n",
      "I can assist you with that. Applying for a mortgage can seem overwhelming, but don't worry, I'm here to help you through the process. Here's what you need to do:\n",
      "\n",
      "1. Start by researching different mortgage lenders and comparing their rates and terms to find the best fit for you.\n",
      "2. Gather all the necessary documents, such as proof of income, bank statements, and identification.\n",
      "3. Contact the selected mortgage lender directly or visit their website to begin the application process.\n",
      "4. Fill out the application form with accurate and up-to-date information.\n",
      "5. Submit the required documents along with the application.\n",
      "6. Once submitted, the lender will review your application and may request additional information if needed.\n",
      "7. After the review process, the lender will notify you of their decision and provide details on the next steps.\n",
      "\n",
      "Remember, applying for a mortgage is a significant financial decision, so take your time, ask any questions you may have, and ensure you understand the terms and conditions. If you need any further assistance or have specific questions, feel free to ask. Good luck with your mortgage application!\n",
      "\u001b[1m1/1\u001b[0m \u001b[32m━━━━━━━━━━━━━━━━━━━━\u001b[0m\u001b[37m\u001b[0m \u001b[1m0s\u001b[0m 28ms/step\n",
      "User Input: I want to activate my card\n",
      "Predicted Intent Index: 0, Predicted Intent: activate_card\n",
      "I'm here to assist you with that! Activating your card is an important step to starting and enjoying its benefits. Here's how you can activate your card:\n",
      "\n",
      "1. Locate the activation instructions: Depending on the card issuer, you may find the activation instructions on a sticker attached to the card itself, in the welcome package, or on the issuer's website.\n",
      "\n",
      "2. Visit the card issuer's activation website: Using your computer or mobile device, open a web browser and navigate to the card issuer's website. Look for the activation page or section.\n",
      "\n",
      "3. Enter the required information: Follow the prompts on the activation page and provide the necessary information. This may include your card number, personal details, and security code.\n",
      "\n",
      "4. Set up your card: Once you've entered the required information, you may have the option to set up a PIN, create an online account, or choose additional security features. Follow the instructions provided.\n",
      "\n",
      "5. Confirm activation: After entering all the necessary details and setting up any additional features, review the information you've provided and click on the \"Activate\" or \"Confirm\" button. \n",
      "\n",
      "6. Await confirmation: In most cases, you'll receive a confirmation message either on the website or through email or SMS indicating that your card has been successfully activated.\n",
      "\n",
      "If you encounter any issues during the activation process or have any questions, please don't hesitate to reach out. I'm here to assist you every step of the way!\n",
      "\u001b[1m1/1\u001b[0m \u001b[32m━━━━━━━━━━━━━━━━━━━━\u001b[0m\u001b[37m\u001b[0m \u001b[1m0s\u001b[0m 25ms/step\n",
      "User Input: How do I check my balance?\n",
      "Predicted Intent Index: 10, Predicted Intent: check_current_balance_on_card\n",
      "I can definitely assist you in finding the information about the current balance on your cards. Here's what you need to do:\n",
      "\n",
      "1. Log in to your online banking account or mobile banking app.\n",
      "2. Look for the \"Accounts\" or \"My Cards\" section.\n",
      "3. Select the specific card you want to check the balance for.\n",
      "4. The current balance should be displayed on the screen.\n",
      "\n",
      "If you're having any trouble finding the information or if you have any other questions related to your cards, feel free to let me know. I'm here to help!\n"
     ]
    }
   ],
   "source": [
    "test_inputs = [\n",
    "    \"I am trying to ifnd a password, I need help\",\n",
    "    \"I want to activate my card\",\n",
    "    \"How do I check my balance?\"\n",
    "]\n",
    "for input_text in test_inputs:\n",
    "    print(get_response(input_text))"
   ]
  },
  {
   "cell_type": "code",
   "execution_count": null,
   "metadata": {},
   "outputs": [],
   "source": []
  }
 ],
 "metadata": {
  "kernelspec": {
   "display_name": "base",
   "language": "python",
   "name": "python3"
  },
  "language_info": {
   "codemirror_mode": {
    "name": "ipython",
    "version": 3
   },
   "file_extension": ".py",
   "mimetype": "text/x-python",
   "name": "python",
   "nbconvert_exporter": "python",
   "pygments_lexer": "ipython3",
   "version": "3.12.2"
  }
 },
 "nbformat": 4,
 "nbformat_minor": 2
}
